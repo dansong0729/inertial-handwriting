{
 "cells": [
  {
   "cell_type": "code",
   "execution_count": 1,
   "metadata": {},
   "outputs": [],
   "source": [
    "# -*- coding: utf-8 -*-\n",
    "\"\"\"\n",
    "Created on Mon Feb 15 21:56:16 2021\n",
    "\n",
    "@author: danso\n",
    "\"\"\"\n",
    "\n",
    "import numpy as np\n",
    "import struct\n",
    "import serial\n",
    "import matplotlib.pyplot as plt\n",
    "import pickle\n",
    "from datetime import datetime\n",
    "from IPython.display import clear_output\n",
    "from IPython.display import Markdown, display\n",
    "def printmd(string):\n",
    "    display(Markdown(string))"
   ]
  },
  {
   "cell_type": "code",
   "execution_count": 13,
   "metadata": {},
   "outputs": [
    {
     "name": "stdout",
     "output_type": "stream",
     "text": [
      "116\n",
      "[-9.00980266e-02  5.28750754e-02 -3.80994626e-03  2.05096589e+00\n",
      " -5.28447512e+00  5.35656157e+00  1.59525084e+05]\n"
     ]
    }
   ],
   "source": [
    "# target = np.random.randint(10)\n",
    "target = np.repeat(np.arange(10), 2)\n",
    "np.random.shuffle(target)\n",
    "# print(target)\n",
    "\n",
    "\n",
    "bigdata = np.zeros([20,3*119,7])\n",
    "\n",
    "for i in range(20):\n",
    "    printmd(\"<span style=\\\"font-size:3em;\\\">\" + str(target[i]) + \"</span>\")\n",
    "    data = []\n",
    "    with serial.Serial('COM3', 38400, timeout=10) as ser:\n",
    "        startmess = ser.readline()\n",
    "        if not startmess:\n",
    "            raise(Exception(\"Timed Out\"))\n",
    "        if startmess != b'IMU goes BBBBRRRR\\r\\n':\n",
    "            raise(Exception(\"Start message invalid:\\n\"+str(startmess)))\n",
    "        ser.timeout = 0.1\n",
    "        while True:\n",
    "            message = ser.read(28)\n",
    "            if not message:\n",
    "                raise(Exception(\"Timed Out\"))\n",
    "            if len(message)<24:\n",
    "                raise(Exception(\"Message Too Short:\\n\"+str(message)))\n",
    "            values = np.array(struct.unpack('fffffff',message))\n",
    "            if np.any(np.isnan(values)):\n",
    "                if np.any(~np.isnan(values)):\n",
    "                    raise Exception(\"Could not read data:\\n\"+str(message))\n",
    "                else:\n",
    "                    break\n",
    "            data.append(values)\n",
    "    data = np.array(data)\n",
    "    clear_output(wait=True)\n",
    "    print(data.shape[0])\n",
    "    data = np.pad(data,((0, 3*119-data.shape[0],), (0,0)))\n",
    "    #print(data)\n",
    "    print(np.mean(data, axis=0))\n",
    "    bigdata[i] = data"
   ]
  },
  {
   "cell_type": "code",
   "execution_count": null,
   "metadata": {},
   "outputs": [],
   "source": [
    "np.set_printoptions(suppress=True)\n",
    "print(np.mean(bigdata[:, :, :-1],axis=1))"
   ]
  },
  {
   "cell_type": "code",
   "execution_count": 14,
   "metadata": {},
   "outputs": [
    {
     "name": "stdout",
     "output_type": "stream",
     "text": [
      "Dan_collected_23_53_12.pkl\n"
     ]
    }
   ],
   "source": [
    "together = (bigdata, target)\n",
    "now = datetime.now()\n",
    "name = now.strftime(\"Dan_collected_%H_%M_%S.pkl\")\n",
    "print(name)\n",
    "with open(\"data/\"+name, \"wb\") as fp:\n",
    "    pickle.dump(together, fp)"
   ]
  },
  {
   "cell_type": "code",
   "execution_count": null,
   "metadata": {},
   "outputs": [],
   "source": [
    "temp=bigdata[9][:,(1,2)]\n",
    "temp1 = np.cumsum(temp,axis=0)\n",
    "temp2 = np.cumsum(temp1-np.mean(temp1, axis=0),axis=0)\n",
    "plt.plot(temp2[:, 0], temp2[:, 1])"
   ]
  },
  {
   "cell_type": "code",
   "execution_count": null,
   "metadata": {},
   "outputs": [],
   "source": [
    "print(target)"
   ]
  },
  {
   "cell_type": "code",
   "execution_count": null,
   "metadata": {},
   "outputs": [],
   "source": [
    "with open(\"data/collected224735.pkl\", \"rb\") as fp:\n",
    "    x,y = pickle.load(fp)"
   ]
  },
  {
   "cell_type": "code",
   "execution_count": null,
   "metadata": {},
   "outputs": [],
   "source": [
    "print(x.shape)"
   ]
  }
 ],
 "metadata": {
  "kernelspec": {
   "display_name": "Python 3",
   "language": "python",
   "name": "python3"
  },
  "language_info": {
   "codemirror_mode": {
    "name": "ipython",
    "version": 3
   },
   "file_extension": ".py",
   "mimetype": "text/x-python",
   "name": "python",
   "nbconvert_exporter": "python",
   "pygments_lexer": "ipython3",
   "version": "3.6.5"
  }
 },
 "nbformat": 4,
 "nbformat_minor": 4
}
